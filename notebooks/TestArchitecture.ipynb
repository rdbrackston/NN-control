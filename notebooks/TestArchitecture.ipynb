{
  "cells": [
    {
      "cell_type": "code",
      "source": [
        "import numpy as np\n",
        "import tensorflow as tf\n",
        "import matplotlib.pyplot as plt\n",
        "from copy import deepcopy\n",
        "\n",
        "import importlib\n",
        "import sys\n",
        "sys.path.insert(0, \"/Users/rowanbrackston/Box Sync/GitRepos/NN-control/src\")\n",
        "\n",
        "print(tf.__version__)"
      ],
      "outputs": [
        {
          "output_type": "stream",
          "name": "stdout",
          "text": [
            "2.1.0\n"
          ]
        }
      ],
      "execution_count": 1,
      "metadata": {
        "collapsed": false,
        "outputHidden": false,
        "inputHidden": false
      }
    },
    {
      "cell_type": "code",
      "source": [
        "import euler\n",
        "importlib.reload(sys.modules['euler'])\n",
        "import systems\n",
        "importlib.reload(sys.modules['systems'])"
      ],
      "outputs": [
        {
          "output_type": "execute_result",
          "execution_count": 17,
          "data": {
            "text/plain": [
              "<module 'systems' from '/Users/rowanbrackston/Box Sync/GitRepos/NN-control/src/systems.py'>"
            ]
          },
          "metadata": {}
        }
      ],
      "execution_count": 17,
      "metadata": {
        "collapsed": false,
        "outputHidden": false,
        "inputHidden": false
      }
    },
    {
      "cell_type": "code",
      "source": [
        "G = systems.VDPOscillator()\n",
        "K = systems.DenseSeqControl()"
      ],
      "outputs": [],
      "execution_count": 3,
      "metadata": {
        "collapsed": false,
        "outputHidden": false,
        "inputHidden": false
      }
    },
    {
      "cell_type": "code",
      "source": [
        "class ClosedLoop():\n",
        "    \"\"\"\n",
        "    Class for the closed loop system, taking a plant and controller during construction\n",
        "    \"\"\"\n",
        "    \n",
        "    def __init__(self, plant, controller):\n",
        "        self.plant = plant\n",
        "        self.controller = controller\n",
        "    \n",
        "    def forward(self, t,x):\n",
        "        return self.plant(x,t) + self.controller(x,t)\n",
        "        "
      ],
      "outputs": [],
      "execution_count": 4,
      "metadata": {
        "collapsed": false,
        "outputHidden": false,
        "inputHidden": false
      }
    },
    {
      "cell_type": "code",
      "source": [
        "loop = ClosedLoop(G,K)\n",
        "\n",
        "x0 = tf.constant([[1.0],[1.0]], tf.float32)\n",
        "x0 = tf.reshape(x0, [-1,G.nStates,1])\n",
        "loop.forward(0.0,x0)"
      ],
      "outputs": [
        {
          "output_type": "execute_result",
          "execution_count": 6,
          "data": {
            "text/plain": [
              "<tf.Tensor: shape=(1, 2, 1), dtype=float32, numpy=\n",
              "array([[[ 1.      ],\n",
              "        [-0.904947]]], dtype=float32)>"
            ]
          },
          "metadata": {}
        }
      ],
      "execution_count": 6,
      "metadata": {
        "collapsed": false,
        "outputHidden": false,
        "inputHidden": false
      }
    },
    {
      "cell_type": "code",
      "source": [
        "trajectory = euler.fwd(loop, x0, 10)"
      ],
      "outputs": [],
      "execution_count": 18,
      "metadata": {
        "collapsed": false,
        "outputHidden": false,
        "inputHidden": false
      }
    },
    {
      "cell_type": "code",
      "source": [
        "np.shape(trajectory)\n",
        "plt.plot(trajectory[:,0,0,0])"
      ],
      "outputs": [
        {
          "output_type": "execute_result",
          "execution_count": 21,
          "data": {
            "text/plain": [
              "[<matplotlib.lines.Line2D at 0x1534a2990>]"
            ]
          },
          "metadata": {}
        },
        {
          "output_type": "display_data",
          "data": {
            "text/plain": [
              "<Figure size 432x288 with 1 Axes>"
            ],
            "image/png": "[encoded data removed]"
          },
          "metadata": {
            "needs_background": "light"
          }
        }
      ],
      "execution_count": 21,
      "metadata": {
        "collapsed": false,
        "outputHidden": false,
        "inputHidden": false
      }
    },
    {
      "cell_type": "code",
      "source": [],
      "outputs": [],
      "execution_count": null,
      "metadata": {
        "collapsed": false,
        "outputHidden": false,
        "inputHidden": false
      }
    }
  ],
  "metadata": {
    "kernel_info": {
      "name": "tensor-flow2"
    },
    "language_info": {
      "name": "python",
      "version": "3.7.4",
      "mimetype": "text/x-python",
      "codemirror_mode": {
        "name": "ipython",
        "version": 3
      },
      "pygments_lexer": "ipython3",
      "nbconvert_exporter": "python",
      "file_extension": ".py"
    },
    "kernelspec": {
      "name": "tensor-flow2",
      "language": "python",
      "display_name": "tensor-flow-2"
    },
    "nteract": {
      "version": "0.15.0"
    }
  },
  "nbformat": 4,
  "nbformat_minor": 0
}